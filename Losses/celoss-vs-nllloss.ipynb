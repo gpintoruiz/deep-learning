{
 "cells": [
  {
   "cell_type": "code",
   "execution_count": 16,
   "metadata": {},
   "outputs": [],
   "source": [
    "# Original: https://www.youtube.com/watch?v=Ni1ViB1Ezjs&ab_channel=MakeesyAI\n",
    "import torch\n",
    "from torch import nn"
   ]
  },
  {
   "cell_type": "code",
   "execution_count": 17,
   "metadata": {},
   "outputs": [
    {
     "name": "stdout",
     "output_type": "stream",
     "text": [
      "torch.Size([3, 5]) torch.float32\n",
      "tensor([[0.9151, 0.5766, 0.5051, 0.2546, 0.0586],\n",
      "        [0.5249, 0.0180, 0.0798, 0.6809, 0.7786],\n",
      "        [0.1046, 0.9778, 0.3505, 0.1764, 0.3485]], requires_grad=True)\n"
     ]
    }
   ],
   "source": [
    "# Simulo la salida del modelo con batch size = 3 y 5 clases.\n",
    "\n",
    "# El requires_grad simula como si estuvieramos entrenando un modelo\n",
    "prediction = torch.rand(3, 5, requires_grad=True) \n",
    "print(prediction.size(), prediction.dtype)\n",
    "print(prediction)"
   ]
  },
  {
   "cell_type": "code",
   "execution_count": 18,
   "metadata": {},
   "outputs": [
    {
     "name": "stdout",
     "output_type": "stream",
     "text": [
      "torch.Size([3]) torch.int64\n",
      "tensor([0, 1, 4])\n"
     ]
    }
   ],
   "source": [
    "# Simulo las salidas esperadas de cada elemento del batch.\n",
    "# Para el primer elemento le corresponde 0, al segundo 1 y al tercero 4.\n",
    "target = torch.tensor([0, 1, 4])\n",
    "print(target.size(), target.dtype)\n",
    "print(target)"
   ]
  },
  {
   "cell_type": "code",
   "execution_count": 19,
   "metadata": {},
   "outputs": [],
   "source": [
    "log_softmax = nn.LogSoftmax(dim=-1) # El dim=-1 es para que siempre opere por las salidas del modelo.\n",
    "loss_fn_nll = nn.NLLLoss()\n",
    "loss_fn_ce = nn.CrossEntropyLoss()"
   ]
  },
  {
   "cell_type": "code",
   "execution_count": 20,
   "metadata": {},
   "outputs": [
    {
     "name": "stdout",
     "output_type": "stream",
     "text": [
      "tensor(1.6531, grad_fn=<NllLossBackward0>)\n",
      "tensor(1.6531, grad_fn=<NllLossBackward0>)\n"
     ]
    }
   ],
   "source": [
    "loss_nll = loss_fn_nll(log_softmax(prediction), target) # Tenemos que aplicar log softmax\n",
    "loss_ce = loss_fn_ce(prediction, target) # Cross Entropy aplica softmax\n",
    "\n",
    "# Obtenemos el loss como si estuvieramos entrenando\n",
    "loss_nll.backward()\n",
    "loss_ce.backward()\n",
    "\n",
    "# Imprimos la pérdida\n",
    "print(loss_nll)\n",
    "print(loss_ce)\n",
    "\n",
    "# Curiosamente ambas usan el mismo método para hacer la propagación del error."
   ]
  },
  {
   "cell_type": "code",
   "execution_count": 43,
   "metadata": {},
   "outputs": [
    {
     "name": "stdout",
     "output_type": "stream",
     "text": [
      "torch.Size([3, 1]) torch.float32\n",
      "tensor([[0.4963],\n",
      "        [0.7682],\n",
      "        [0.0885]], requires_grad=True)\n"
     ]
    }
   ],
   "source": [
    "# Extra BCELoss vs BCEWithLogitsLoss \n",
    "\n",
    "torch.random.manual_seed(0)\n",
    "\n",
    "prediction = torch.rand(3, 1, requires_grad=True) # Solo dos clases\n",
    "print(prediction.size(), prediction.dtype)\n",
    "print(prediction)"
   ]
  },
  {
   "cell_type": "code",
   "execution_count": 50,
   "metadata": {},
   "outputs": [
    {
     "name": "stdout",
     "output_type": "stream",
     "text": [
      "torch.Size([3, 1]) torch.float32\n",
      "tensor([[0.],\n",
      "        [1.],\n",
      "        [0.]])\n"
     ]
    }
   ],
   "source": [
    "target = torch.tensor([0, 1, 0]).unsqueeze(1).float()\n",
    "print(target.size(), target.dtype)\n",
    "print(target)"
   ]
  },
  {
   "cell_type": "code",
   "execution_count": 51,
   "metadata": {},
   "outputs": [],
   "source": [
    "sigmoid = nn.Sigmoid() \n",
    "loss_fn_bce = nn.BCELoss()\n",
    "loss_fn_bcewl = nn.BCEWithLogitsLoss() # Esta aplica sigmoid "
   ]
  },
  {
   "cell_type": "code",
   "execution_count": 52,
   "metadata": {},
   "outputs": [
    {
     "name": "stdout",
     "output_type": "stream",
     "text": [
      "tensor(0.6971, grad_fn=<BinaryCrossEntropyBackward0>)\n",
      "tensor(0.6971, grad_fn=<BinaryCrossEntropyWithLogitsBackward0>)\n"
     ]
    }
   ],
   "source": [
    "loss_bce = loss_fn_bce(sigmoid(prediction), target) # Tenemos que aplicar sigmoid\n",
    "loss_bcewl = loss_fn_bcewl(prediction, target)\n",
    "\n",
    "# Obtenemos el loss como si estuvieramos entrenando\n",
    "loss_bce.backward()\n",
    "loss_bcewl.backward()\n",
    "\n",
    "# Imprimos la pérdida\n",
    "print(loss_bce)\n",
    "print(loss_bcewl)"
   ]
  }
 ],
 "metadata": {
  "kernelspec": {
   "display_name": "carvana-unet",
   "language": "python",
   "name": "python3"
  },
  "language_info": {
   "codemirror_mode": {
    "name": "ipython",
    "version": 3
   },
   "file_extension": ".py",
   "mimetype": "text/x-python",
   "name": "python",
   "nbconvert_exporter": "python",
   "pygments_lexer": "ipython3",
   "version": "3.10.14"
  }
 },
 "nbformat": 4,
 "nbformat_minor": 2
}
